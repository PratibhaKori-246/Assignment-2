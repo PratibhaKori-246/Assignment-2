{
 "cells": [
  {
   "cell_type": "markdown",
   "id": "d84719c2-b96f-4c58-b910-d11670f04991",
   "metadata": {},
   "source": [
    "# Data structure imp. questions {Part -1}"
   ]
  },
  {
   "cell_type": "markdown",
   "id": "6ac34c17-668a-4326-bbf4-b62bf73d97bd",
   "metadata": {},
   "source": [
    "Q1. Discuss string slicing and provide example."
   ]
  },
  {
   "cell_type": "markdown",
   "id": "266086be-5058-4bcc-a564-269c2617cad9",
   "metadata": {},
   "source": [
    "String slicing is a technique used in programming to extract a portion of a string based on specified indices. It’s commonly used in languages like Python. The basic syntax for string slicing is:\n",
    "\n",
    "string [start : end : steps]\n",
    "\n",
    "• start: The index where the slice begins (inclusive).\n",
    "\n",
    "• end: The index where the slice ends (exclusive).\n",
    "\n",
    "• step: The interval between elements in the slice.\n",
    "\n",
    "Examples:"
   ]
  },
  {
   "cell_type": "code",
   "execution_count": 6,
   "id": "54c9f81e-a06e-45e2-b376-851b475d71a9",
   "metadata": {},
   "outputs": [
    {
     "data": {
      "text/plain": [
       "' a  y!'"
      ]
     },
     "execution_count": 6,
     "metadata": {},
     "output_type": "execute_result"
    }
   ],
   "source": [
    "s = \" Whats up guys!!\"\n",
    "s[ : : 3]"
   ]
  },
  {
   "cell_type": "code",
   "execution_count": 3,
   "id": "e34e92bf-6824-40d7-9118-9bc206c860f7",
   "metadata": {},
   "outputs": [
    {
     "data": {
      "text/plain": [
       "'Hello'"
      ]
     },
     "execution_count": 3,
     "metadata": {},
     "output_type": "execute_result"
    }
   ],
   "source": [
    "s = \"Hello, World!\"\n",
    "s[:5]  "
   ]
  },
  {
   "cell_type": "code",
   "execution_count": 5,
   "id": "43e03235-b56a-4430-9f02-cfceb9f01754",
   "metadata": {},
   "outputs": [
    {
     "data": {
      "text/plain": [
       "'Hello, W'"
      ]
     },
     "execution_count": 5,
     "metadata": {},
     "output_type": "execute_result"
    }
   ],
   "source": [
    "s[ : 8 ]"
   ]
  },
  {
   "cell_type": "code",
   "execution_count": 6,
   "id": "46ae768d-81b4-461d-8a83-500227f5944f",
   "metadata": {},
   "outputs": [
    {
     "data": {
      "text/plain": [
       "'t no'"
      ]
     },
     "execution_count": 6,
     "metadata": {},
     "output_type": "execute_result"
    }
   ],
   "source": [
    "Prajakta_ = \"Lets enjoy the party\"\n",
    "Prajakta_[2:9:2]"
   ]
  },
  {
   "cell_type": "code",
   "execution_count": 9,
   "id": "3d098710-b031-4706-8ce1-4de91726524d",
   "metadata": {},
   "outputs": [
    {
     "data": {
      "text/plain": [
       "'?uoy tuoba'"
      ]
     },
     "execution_count": 9,
     "metadata": {},
     "output_type": "execute_result"
    }
   ],
   "source": [
    "string1 = 'I\\'m good ,what about you?'\n",
    "string1[-1 :-11 :-1]"
   ]
  },
  {
   "cell_type": "code",
   "execution_count": 10,
   "id": "8f329911-425e-49ba-9fe6-5ac60f4f793d",
   "metadata": {},
   "outputs": [
    {
     "data": {
      "text/plain": [
       "'p lhrai l,ia'"
      ]
     },
     "execution_count": 10,
     "metadata": {},
     "output_type": "execute_result"
    }
   ],
   "source": [
    "bill = \"pay all the remaining bills, disha\"\n",
    "bill[ : : 3]"
   ]
  },
  {
   "cell_type": "code",
   "execution_count": 12,
   "id": "888cddf2-79b7-4a66-beab-e84cbe54b901",
   "metadata": {},
   "outputs": [
    {
     "data": {
      "text/plain": [
       "\"hey! don't play around the bushes\""
      ]
     },
     "execution_count": 12,
     "metadata": {},
     "output_type": "execute_result"
    }
   ],
   "source": [
    "argument = \"hey! don't play around the bushes\"\n",
    "argument[ :]"
   ]
  },
  {
   "cell_type": "markdown",
   "id": "ee68a805-c7c3-447b-8c06-985a384ed275",
   "metadata": {},
   "source": [
    "Q2. Explain the key features of lists in python."
   ]
  },
  {
   "cell_type": "markdown",
   "id": "42e5cdca-5ae2-4d36-9a7d-d4ebe3c25bd1",
   "metadata": {},
   "source": [
    "Lists in Python are a fundamental data structure that allow you to store and manipulate collections of items. Here are the key features of lists in Python:\n",
    "\n",
    "1. Mutable - Lists are mutable, meaning you can change their content after they are created. You can modify, add, or remove elements.\n",
    "\n",
    "2. Heterogeneous - Lists can contain items of different data types. For example, you can have a list with integers, strings, and even other lists.\n",
    "\n",
    "3. Indexing and Slicing - You can access individual elements using their index .\n",
    "You can use slicing to obtain sublists.\n",
    "\n",
    "4.  Ordered Collection - Lists maintain the order of elements. This means that the order in which you add items to the list is preserved.\n",
    "You can access elements by their index, with the first element having an index of 0. You don't have to worry about the order of the items prsent in the list.\n",
    "\n",
    "5.  Dynamic Size - Lists can grow and shrink in size dynamically. You don't need to specify the size of the list when you create it.\n",
    "\n",
    "6.  Some other in -built features -\n",
    "\n",
    "Lists come with several built-in methods for common operations:\n",
    "\n",
    "▸ append(item): Adds an item to the end of the list.\n",
    "\n",
    "▸ extend(iterable): Extends the list by appending elements from an iterable.\n",
    "\n",
    "▸ remove(item): Removes the first occurrence of an item.\n",
    "\n",
    "▸ count(item): Returns the number of occurrences of an item.\n",
    "\n",
    "▸ sort(): Sorts the items of the list in place.\n",
    "\n",
    "▸ reverse(): Reverses the order of items in the list.\n",
    "\n",
    "▸ clear(): Removes all items from the list.\n",
    "\n",
    "▸ index(item): Returns the index of the first occurrence of an   item.\n",
    "\n",
    "▸ pop(index): Removes the last value/item by default if you'll not insert any value in it. Examples - "
   ]
  },
  {
   "cell_type": "code",
   "execution_count": 14,
   "id": "9fb87da8-4b81-4270-abf7-a0417865ded1",
   "metadata": {},
   "outputs": [
    {
     "data": {
      "text/plain": [
       "'karan'"
      ]
     },
     "execution_count": 14,
     "metadata": {},
     "output_type": "execute_result"
    }
   ],
   "source": [
    "# easily accessable by index values\n",
    "assembly = ['urvashi' , 'karan' , 'rahul'] \n",
    "assembly[-2]"
   ]
  },
  {
   "cell_type": "code",
   "execution_count": 9,
   "id": "ebe257ff-69f4-4a2c-a64f-e26dbb91547b",
   "metadata": {},
   "outputs": [
    {
     "data": {
      "text/plain": [
       "[500, 30.6]"
      ]
     },
     "execution_count": 9,
     "metadata": {},
     "output_type": "execute_result"
    }
   ],
   "source": [
    "shopping_list = ['pineapple' , (2+7j), 500 , 30.6]\n",
    "shopping_list[ 2: 5: 1]"
   ]
  },
  {
   "cell_type": "code",
   "execution_count": null,
   "id": "ebcd3110-6536-4fb0-a4ec-96d95a27ff3c",
   "metadata": {},
   "outputs": [],
   "source": [
    "# adding values/items in a list\n",
    "lis_ = ['dragon fruit' , 'oranges', 'banana', 'mango']\n",
    "lis_.append('kiwi')"
   ]
  },
  {
   "cell_type": "code",
   "execution_count": 106,
   "id": "3c44b764-b7ef-45f3-a456-1bbb50a62a3a",
   "metadata": {},
   "outputs": [
    {
     "data": {
      "text/plain": [
       "['dragon fruit', 'oranges', 'banana', 'mango', 'kiwi']"
      ]
     },
     "execution_count": 106,
     "metadata": {},
     "output_type": "execute_result"
    }
   ],
   "source": [
    "lis_"
   ]
  },
  {
   "cell_type": "code",
   "execution_count": 1,
   "id": "7856fe41-252b-4096-a5db-26ac54afd121",
   "metadata": {},
   "outputs": [
    {
     "name": "stdout",
     "output_type": "stream",
     "text": [
      "['english', 'maths', 'sst']\n"
     ]
    }
   ],
   "source": [
    "bookshelf = []\n",
    "bookshelf.append('english')\n",
    "bookshelf.append('maths')\n",
    "bookshelf.append('sst')\n",
    "print(bookshelf)"
   ]
  },
  {
   "cell_type": "code",
   "execution_count": 110,
   "id": "07dce7dc-7953-4456-99e2-7a4a87b48eb6",
   "metadata": {},
   "outputs": [
    {
     "data": {
      "text/plain": [
       "['dragon fruit', ' oranges', 'banana', 'mango', 'butterscotch']"
      ]
     },
     "execution_count": 110,
     "metadata": {},
     "output_type": "execute_result"
    }
   ],
   "source": [
    "_list_ = ['dragon fruit' , ' oranges' , 'banana' , 'mango']\n",
    "_list_.insert(4 , 'butterscotch')\n",
    "_list_"
   ]
  },
  {
   "cell_type": "code",
   "execution_count": 4,
   "id": "b704a3f2-c58f-4d19-a7fe-b68446fe9f1e",
   "metadata": {},
   "outputs": [
    {
     "name": "stdout",
     "output_type": "stream",
     "text": [
      "['ice cream', 'cabbage', 'potato', 'chilly', 'onion']\n"
     ]
    }
   ],
   "source": [
    "#'extend' - used to append elements from another list\n",
    "new_list = ['potato' , 'chilly' , 'onion']\n",
    "brother_list = ['ice cream' , 'cabbage']\n",
    "brother_list.extend(new_list)\n",
    "\n",
    "print(brother_list)"
   ]
  },
  {
   "cell_type": "code",
   "execution_count": 32,
   "id": "a40599ad-987d-4fd0-b395-b8d897d5016a",
   "metadata": {},
   "outputs": [
    {
     "data": {
      "text/plain": [
       "['airpods', 'charger', 'headphones', 'suitcase']"
      ]
     },
     "execution_count": 32,
     "metadata": {},
     "output_type": "execute_result"
    }
   ],
   "source": [
    "#sorting list\n",
    "bb_list = ['airpods' , 'headphones', 'charger' , 'suitcase']\n",
    "sorted(bb_list)"
   ]
  },
  {
   "cell_type": "code",
   "execution_count": 38,
   "id": "7e4a02f2-0e1a-419a-bf15-a21f45e08be2",
   "metadata": {},
   "outputs": [
    {
     "data": {
      "text/plain": [
       "1"
      ]
     },
     "execution_count": 38,
     "metadata": {},
     "output_type": "execute_result"
    }
   ],
   "source": [
    "bb_list.index('headphones') #location in list"
   ]
  },
  {
   "cell_type": "code",
   "execution_count": 40,
   "id": "658e3c02-6763-4a62-a8ed-d68b09dff3d7",
   "metadata": {},
   "outputs": [
    {
     "data": {
      "text/plain": [
       "4"
      ]
     },
     "execution_count": 40,
     "metadata": {},
     "output_type": "execute_result"
    }
   ],
   "source": [
    "len(bb_list) #length of the list"
   ]
  },
  {
   "cell_type": "code",
   "execution_count": 41,
   "id": "88c8b67d-6fcc-47a9-9f77-4713f2e7f45f",
   "metadata": {},
   "outputs": [
    {
     "data": {
      "text/plain": [
       "['airpods', 'headphones', 'charger', 'suitcase']"
      ]
     },
     "execution_count": 41,
     "metadata": {},
     "output_type": "execute_result"
    }
   ],
   "source": [
    "bb_list"
   ]
  },
  {
   "cell_type": "code",
   "execution_count": 42,
   "id": "981d58a7-e26a-488d-a8d6-f0b7fde4d092",
   "metadata": {},
   "outputs": [
    {
     "data": {
      "text/plain": [
       "1"
      ]
     },
     "execution_count": 42,
     "metadata": {},
     "output_type": "execute_result"
    }
   ],
   "source": [
    "#no. of times an element occured\n",
    "bb_list.count('charger')"
   ]
  },
  {
   "cell_type": "code",
   "execution_count": 56,
   "id": "9f3e20ab-7328-4008-bd31-48c3b86bd620",
   "metadata": {},
   "outputs": [
    {
     "name": "stdout",
     "output_type": "stream",
     "text": [
      "['headphones', 'charger', 'suitcase']\n"
     ]
    }
   ],
   "source": [
    "#to remove any element\n",
    "bb_list = ['airpods' , 'headphones', 'charger' , 'suitcase']\n",
    "bb_list.remove( 'airpods' )\n",
    "print(bb_list)"
   ]
  },
  {
   "cell_type": "code",
   "execution_count": null,
   "id": "562f1125-3e1d-4493-b998-595d28f56f1f",
   "metadata": {},
   "outputs": [],
   "source": [
    "del bb_list #deletes the variable(bb_list)"
   ]
  },
  {
   "cell_type": "code",
   "execution_count": 62,
   "id": "70872fca-3230-4301-aae1-bffab4309219",
   "metadata": {},
   "outputs": [],
   "source": [
    "#to delete only the values (clear)\n",
    "ppl_list =['wax' , 'brushes' , 'lipstick' , 'bodymist' , 'sunscreen' , 'oil']\n",
    "ppl_list.clear()"
   ]
  },
  {
   "cell_type": "code",
   "execution_count": 63,
   "id": "fb397635-da0a-47bf-affb-e2b37fd455e9",
   "metadata": {},
   "outputs": [
    {
     "data": {
      "text/plain": [
       "[]"
      ]
     },
     "execution_count": 63,
     "metadata": {},
     "output_type": "execute_result"
    }
   ],
   "source": [
    "ppl_list #deleted / clear all elements but variable exist."
   ]
  },
  {
   "cell_type": "code",
   "execution_count": 64,
   "id": "7e75fe88-0b44-4932-b23b-4d0cd2e55255",
   "metadata": {},
   "outputs": [
    {
     "data": {
      "text/plain": [
       "'oil'"
      ]
     },
     "execution_count": 64,
     "metadata": {},
     "output_type": "execute_result"
    }
   ],
   "source": [
    "#'pop' remove the last by default , if the value isn't provided.\n",
    "ppl_list =['wax' , 'brushes' , 'lipstick' , 'bodymist' , 'sunscreen' , 'oil']\n",
    "ppl_list.pop()"
   ]
  },
  {
   "cell_type": "code",
   "execution_count": 65,
   "id": "a8263cac-3433-423a-abf4-fa3ff61b244b",
   "metadata": {},
   "outputs": [
    {
     "data": {
      "text/plain": [
       "['wax', 'brushes', 'lipstick', 'bodymist', 'sunscreen']"
      ]
     },
     "execution_count": 65,
     "metadata": {},
     "output_type": "execute_result"
    }
   ],
   "source": [
    "ppl_list #last element has been removed."
   ]
  },
  {
   "cell_type": "code",
   "execution_count": 66,
   "id": "9d5bced6-800e-4a98-870f-09b33d61464d",
   "metadata": {},
   "outputs": [
    {
     "data": {
      "text/plain": [
       "'brushes'"
      ]
     },
     "execution_count": 66,
     "metadata": {},
     "output_type": "execute_result"
    }
   ],
   "source": [
    "ppl_list.pop(-4)"
   ]
  },
  {
   "cell_type": "code",
   "execution_count": 67,
   "id": "f5eb35cd-5c0c-40f2-a188-7ad28ca015cd",
   "metadata": {},
   "outputs": [
    {
     "data": {
      "text/plain": [
       "['wax', 'lipstick', 'bodymist', 'sunscreen']"
      ]
     },
     "execution_count": 67,
     "metadata": {},
     "output_type": "execute_result"
    }
   ],
   "source": [
    "ppl_list"
   ]
  },
  {
   "cell_type": "markdown",
   "id": "433e44e3-28ce-4f04-a7fb-dc7748026834",
   "metadata": {},
   "source": [
    "Q3. Describe how to access , modify , and delete elements in a list with examples."
   ]
  },
  {
   "cell_type": "markdown",
   "id": "901116e9-3bed-4a30-9258-04fedef85753",
   "metadata": {},
   "source": [
    "Lists in Python are versatile and widely used data structures that allow for the storage and manipulation of ordered collections of items.\n",
    "\n",
    "1. Accessing Elements\n",
    "   \n",
    "You can access elements in a list using indexing. Python lists are zero-indexed, meaning that the first element has an index of 0. Example - "
   ]
  },
  {
   "cell_type": "code",
   "execution_count": 90,
   "id": "c0aef8cd-62ed-4638-9679-32264d9e6f18",
   "metadata": {},
   "outputs": [
    {
     "name": "stdout",
     "output_type": "stream",
     "text": [
      "pencil\n",
      "compass\n"
     ]
    }
   ],
   "source": [
    "list_1 = ['register' , 'scale' , 'pencil' , 'eraser' , 'compass']\n",
    "\n",
    "print(list_1[-3])\n",
    "print(list_1[4])"
   ]
  },
  {
   "cell_type": "code",
   "execution_count": 91,
   "id": "b8c302f1-62e5-4f51-945c-a2e6ad8e6ba3",
   "metadata": {},
   "outputs": [
    {
     "name": "stdout",
     "output_type": "stream",
     "text": [
      "(6+7j)\n",
      "28.5\n",
      "1000\n"
     ]
    }
   ],
   "source": [
    "liss = ['maahi' , 28.5 , 1000 , 6+7j , 'ritik']\n",
    "\n",
    "print(liss[-2])\n",
    "print(liss[-4])\n",
    "print(liss[2])"
   ]
  },
  {
   "cell_type": "markdown",
   "id": "cc17af35-9910-488b-b2a5-02d194e79fcd",
   "metadata": {},
   "source": [
    "2. Modifying Elements\n",
    "   \n",
    "You can modify elements in a list by assigning a new value to a specific index. Lists are mutable, so you can change elements in place. Example -"
   ]
  },
  {
   "cell_type": "code",
   "execution_count": 92,
   "id": "952d5a2d-74db-4837-9345-d32092205741",
   "metadata": {},
   "outputs": [
    {
     "name": "stdout",
     "output_type": "stream",
     "text": [
      "['apple', 'blueberry', 'cherry', 'date']\n"
     ]
    }
   ],
   "source": [
    "fruits = ['apple', 'banana', 'cherry', 'date']\n",
    "\n",
    "fruits[1] = 'blueberry'  \n",
    "print(fruits) "
   ]
  },
  {
   "cell_type": "code",
   "execution_count": 93,
   "id": "c8872df6-2b7d-406c-89de-70f14ce4cd3f",
   "metadata": {},
   "outputs": [
    {
     "name": "stdout",
     "output_type": "stream",
     "text": [
      "['apple', 'blueberry', 'kiwi', 'mango']\n"
     ]
    }
   ],
   "source": [
    "fruits[2:4] = ['kiwi', 'mango']\n",
    "\n",
    "print(fruits) "
   ]
  },
  {
   "cell_type": "markdown",
   "id": "29e91560-b178-4d97-8347-644b28d13134",
   "metadata": {},
   "source": [
    "3. Deleting Elements\n",
    "   \n",
    "You can delete elements from a list using several methods: del, remove(), and pop(). "
   ]
  },
  {
   "cell_type": "code",
   "execution_count": 96,
   "id": "003b09d7-bcb2-49dc-a2e8-3657e1c62fb1",
   "metadata": {},
   "outputs": [
    {
     "name": "stdout",
     "output_type": "stream",
     "text": [
      "['refrigerator', 'ac', 'laptop', 'mobile']\n"
     ]
    }
   ],
   "source": [
    "electronics = ['refrigerator' , 'ac' , 'laptop' , 'mobile' , 'ipads']\n",
    "\n",
    "del electronics[4]\n",
    "print(electronics)"
   ]
  },
  {
   "cell_type": "code",
   "execution_count": 97,
   "id": "f62a89cb-6a23-49d5-81a2-832c65c9da9d",
   "metadata": {},
   "outputs": [
    {
     "name": "stdout",
     "output_type": "stream",
     "text": [
      "['ac', 'laptop', 'mobile']\n"
     ]
    }
   ],
   "source": [
    "del electronics[0]\n",
    "print(electronics)"
   ]
  },
  {
   "cell_type": "code",
   "execution_count": null,
   "id": "8eec9c4b-c858-4f54-b85c-8482e5199c2c",
   "metadata": {},
   "outputs": [],
   "source": [
    "city = ['delhi' , 'jaipur' , 'aayodhya' , 'surat' , 'lucknow']\n",
    "\n",
    "city.remove('lucknow')"
   ]
  },
  {
   "cell_type": "code",
   "execution_count": 99,
   "id": "4108a677-76a5-4f38-98fd-21893702d7e7",
   "metadata": {},
   "outputs": [
    {
     "data": {
      "text/plain": [
       "['delhi', 'jaipur', 'aayodhya', 'surat']"
      ]
     },
     "execution_count": 99,
     "metadata": {},
     "output_type": "execute_result"
    }
   ],
   "source": [
    "city"
   ]
  },
  {
   "cell_type": "code",
   "execution_count": 100,
   "id": "4b6f23b8-405c-4f08-87b9-0b2c87569674",
   "metadata": {},
   "outputs": [
    {
     "data": {
      "text/plain": [
       "'surat'"
      ]
     },
     "execution_count": 100,
     "metadata": {},
     "output_type": "execute_result"
    }
   ],
   "source": [
    "city.pop(3)"
   ]
  },
  {
   "cell_type": "code",
   "execution_count": 101,
   "id": "14121065-4715-48d7-bd84-42322922f1e9",
   "metadata": {},
   "outputs": [
    {
     "data": {
      "text/plain": [
       "['delhi', 'jaipur', 'aayodhya']"
      ]
     },
     "execution_count": 101,
     "metadata": {},
     "output_type": "execute_result"
    }
   ],
   "source": [
    "city"
   ]
  },
  {
   "cell_type": "markdown",
   "id": "9326a243-f063-4d85-afd3-baaafab4e63c",
   "metadata": {},
   "source": [
    "Q4. Compare and contrast tuples and lists with examples."
   ]
  },
  {
   "cell_type": "markdown",
   "id": "4995f8f8-1256-4f5c-b4c4-4058e43bd6fb",
   "metadata": {},
   "source": [
    "Tuples and lists are both data structures in Python that can store collections of items. However, they have several key differences and similarities. \n",
    "\n",
    "Let’s compare and contrast tuples and lists:"
   ]
  },
  {
   "cell_type": "markdown",
   "id": "28772ed6-79fc-4459-bd5f-d80c39240aab",
   "metadata": {},
   "source": [
    "1. Mutability:\n",
    "\n",
    "⦿ Tuples: Immutable. Once created, you cannot change their content (i.e., you can't add, remove, or modify elements).\n",
    "\n",
    "⦿ Lists: Mutable. You can modify, add, or remove elements."
   ]
  },
  {
   "cell_type": "code",
   "execution_count": 121,
   "id": "98052c22-ce3a-4b06-98be-421282f05e10",
   "metadata": {},
   "outputs": [
    {
     "name": "stdout",
     "output_type": "stream",
     "text": [
      "[2, 80.5, (2+4j), 'delhi', 'KALKI']\n"
     ]
    }
   ],
   "source": [
    "#LIST : mutable\n",
    "#Lists can be changed after they are created. You can modify, add, or remove elements.\n",
    "bbc_list = [2 , 80.5 , (2+ 4j) , 'delhi']\n",
    "\n",
    "bbc_list.append('KALKI')\n",
    "print(bbc_list)"
   ]
  },
  {
   "cell_type": "code",
   "execution_count": 5,
   "id": "18e2bee0-b0e3-4c06-92e5-b910288bb8ce",
   "metadata": {},
   "outputs": [
    {
     "name": "stdout",
     "output_type": "stream",
     "text": [
      "(5, 6, 33)\n"
     ]
    }
   ],
   "source": [
    "#TUPLES : immutable\n",
    "#Tuples cannot be changed once they are created. You cannot modify, add, or remove elements.\n",
    "first_tuples = ( 5 , 6 , 33)\n",
    "# first_tuples.remove(-1) # it will show an error.\n",
    "print(first_tuples)"
   ]
  },
  {
   "cell_type": "markdown",
   "id": "15519ae2-0839-458b-bc50-fcd3790e640b",
   "metadata": {},
   "source": [
    "2. Sytax:\n",
    "\n",
    "⦿ Tuples: Defined using parentheses ().\n",
    "\n",
    "⦿ Lists: Defined using square brackets []."
   ]
  },
  {
   "cell_type": "code",
   "execution_count": 7,
   "id": "ddff98ff-3301-46ba-8f55-e49b97820981",
   "metadata": {},
   "outputs": [
    {
     "data": {
      "text/plain": [
       "[2, 'bulb', 44.3]"
      ]
     },
     "execution_count": 7,
     "metadata": {},
     "output_type": "execute_result"
    }
   ],
   "source": [
    "#LIST :  Defined with square brackets []\n",
    "my_list = [ 2 ,'bulb' , 44.3]\n",
    "my_list"
   ]
  },
  {
   "cell_type": "code",
   "execution_count": 8,
   "id": "35c6963d-16ea-4bd1-9433-3253611cca08",
   "metadata": {},
   "outputs": [
    {
     "data": {
      "text/plain": [
       "(3, 32, 89)"
      ]
     },
     "execution_count": 8,
     "metadata": {},
     "output_type": "execute_result"
    }
   ],
   "source": [
    "#TUPLES : Defined with parentheses ().\n",
    "my_tuples  = ( 3 ,32 , 89)\n",
    "my_tuples"
   ]
  },
  {
   "cell_type": "markdown",
   "id": "09082ce3-98c7-4b83-b25c-4304237bfb98",
   "metadata": {},
   "source": [
    "3.Performance :\n",
    "\n",
    "Lists: Typically have a slightly larger memory overhead and slower performance for operations due to their mutable nature.\n",
    "\n",
    "Tuples: Generally have a smaller memory footprint and can be faster for iteration and access due to their immutability."
   ]
  },
  {
   "cell_type": "markdown",
   "id": "f2fe5b62-d768-44f2-b4f3-f1feab4fe2b8",
   "metadata": {},
   "source": [
    "4. Methods and Operations."
   ]
  },
  {
   "cell_type": "markdown",
   "id": "87a09c13-91a5-4fa1-a466-3abe126208a5",
   "metadata": {},
   "source": [
    "#Lists:\n",
    "\n",
    "Have several built-in methods for manipulation , such as append( ) , extend( ) , insert( ) , remove( ) , pop( ) , sort( ) , and reverse( )."
   ]
  },
  {
   "cell_type": "code",
   "execution_count": 82,
   "id": "bfe1f0dc-9668-43ee-8f07-208e638cfc9f",
   "metadata": {},
   "outputs": [],
   "source": [
    "list_ = [88 , 5.6 , 90]\n",
    "list_.append(-3)\n",
    "list_.sort()"
   ]
  },
  {
   "cell_type": "markdown",
   "id": "8ae71905-adcb-4937-b558-4c4ceaae5d0f",
   "metadata": {},
   "source": [
    "#Tuples:\n",
    "\n",
    "Have fewer methods since they are immutable. The main methods are count( ) and index( )."
   ]
  },
  {
   "cell_type": "code",
   "execution_count": 125,
   "id": "27602e29-c6f3-4535-81c7-0f76e5e9de58",
   "metadata": {},
   "outputs": [
    {
     "name": "stdout",
     "output_type": "stream",
     "text": [
      "(1, 2, 3, 1)\n"
     ]
    }
   ],
   "source": [
    "my_tuple = (1, 2, 3, 1)\n",
    "count_1 = my_tuple.count(1) \n",
    "\n",
    "print(my_tuple)"
   ]
  },
  {
   "cell_type": "markdown",
   "id": "306a1113-f6b4-4986-8c8e-65651af728d8",
   "metadata": {},
   "source": [
    "5. . Use Cases:\n",
    "\n",
    "Lists - Use lists when you need a collection of items that may change during the execution of your program. Lists are more flexible due to their mutability.\n",
    "\n",
    "Example: Managing a collection of user inputs or a dynamic list of records.\n",
    "\n",
    "Tuples - Use tuples for fixed collections of items that should not change. They are useful for representing records or pairs where immutability provides integrity.\n",
    "\n",
    "Example - documents , Id-cards , account no. etc."
   ]
  },
  {
   "cell_type": "markdown",
   "id": "bd1090e7-79e9-48af-8e85-1b251a9e53df",
   "metadata": {},
   "source": [
    "q5. Describe the key features of sets and provide examples of their use . "
   ]
  },
  {
   "cell_type": "markdown",
   "id": "34702bea-3b1a-49a8-98fe-9642fc0077f2",
   "metadata": {},
   "source": [
    "Sets in Python are a built-in data structure that represents an unordered collection of unique elements. They are particularly useful for operations involving membership testing, elimination of duplicates, and mathematical set operations."
   ]
  },
  {
   "cell_type": "code",
   "execution_count": 92,
   "id": "41d9845c-d202-40c1-8ba5-5205163511da",
   "metadata": {},
   "outputs": [],
   "source": [
    "#Key Features of Sets"
   ]
  },
  {
   "cell_type": "markdown",
   "id": "8cf8680e-13a6-4239-b95e-5ef4e2679d6c",
   "metadata": {},
   "source": [
    "1. Unordered Collection\n",
    "\n",
    "Sets do not maintain any specific order for their elements. The order in which elements are added is not preserved."
   ]
  },
  {
   "cell_type": "code",
   "execution_count": 91,
   "id": "d2596e7f-6adc-4a42-b487-ca185d2ca377",
   "metadata": {},
   "outputs": [
    {
     "name": "stdout",
     "output_type": "stream",
     "text": [
      "{'u', 1, 7.8}\n"
     ]
    }
   ],
   "source": [
    "myset = {1 , 'u', 7.8}\n",
    "print(myset)"
   ]
  },
  {
   "cell_type": "markdown",
   "id": "c1f2c7e9-d292-4a29-a10c-67861959de01",
   "metadata": {},
   "source": [
    "2. Unique Elements\n",
    "\n",
    "Sets automatically ensure that all elements are unique. Duplicate values are removed."
   ]
  },
  {
   "cell_type": "code",
   "execution_count": 87,
   "id": "70d0a2d2-399a-4149-9886-0036cdf7889b",
   "metadata": {},
   "outputs": [
    {
     "name": "stdout",
     "output_type": "stream",
     "text": [
      "{88, 'chocolate', 6, 'onion'}\n"
     ]
    }
   ],
   "source": [
    "first_set = {6 , 88 , 'onion' , 6 , 'chocolate' , 88}\n",
    "print(first_set)"
   ]
  },
  {
   "cell_type": "markdown",
   "id": "fc6a1a71-9ae3-42ba-ba9a-168f455e0c06",
   "metadata": {},
   "source": [
    "3. Mutable\n",
    "\n",
    "Sets are mutable, meaning you can add or remove elements after the set is created."
   ]
  },
  {
   "cell_type": "code",
   "execution_count": 95,
   "id": "c1f13721-344d-4af2-93a1-abb45ff0b7d1",
   "metadata": {},
   "outputs": [],
   "source": [
    "myset = {33.3 , 88 , 5 , 16}\n",
    "myset.add(3)\n",
    "myset.remove(33.3)"
   ]
  },
  {
   "cell_type": "code",
   "execution_count": 94,
   "id": "d1828a8f-a7bc-418b-882e-91869e4d5164",
   "metadata": {},
   "outputs": [
    {
     "data": {
      "text/plain": [
       "{3, 5, 16, 33.3, 88}"
      ]
     },
     "execution_count": 94,
     "metadata": {},
     "output_type": "execute_result"
    }
   ],
   "source": [
    "myset"
   ]
  },
  {
   "cell_type": "code",
   "execution_count": 96,
   "id": "da1506fd-8942-4bb6-a506-852b0e803707",
   "metadata": {},
   "outputs": [
    {
     "data": {
      "text/plain": [
       "{3, 5, 16, 88}"
      ]
     },
     "execution_count": 96,
     "metadata": {},
     "output_type": "execute_result"
    }
   ],
   "source": [
    "myset"
   ]
  },
  {
   "cell_type": "markdown",
   "id": "b4723772-9b97-4cd8-9d4a-9097829a54ca",
   "metadata": {},
   "source": [
    "4. No Indexing\n",
    "\n",
    "Sets do not support indexing, slicing, or other sequence-like behavior because they are unordered.}"
   ]
  },
  {
   "cell_type": "code",
   "execution_count": null,
   "id": "0ab778e6-cdbc-44c7-8332-ce276f4b08f2",
   "metadata": {},
   "outputs": [],
   "source": [
    "bill_set = {'telephone' , 11 , 4.6 , 'j'}\n",
    "bill_set[4] #this will show an eror."
   ]
  },
  {
   "cell_type": "markdown",
   "id": "fdff1ca7-c7f3-4381-b73a-a149d01d6566",
   "metadata": {},
   "source": [
    "5. Set Operations\n",
    "\n",
    "Sets support a variety of mathematical set operations such as union, intersection, difference, and symmetric difference."
   ]
  },
  {
   "cell_type": "code",
   "execution_count": 105,
   "id": "f2d28ee7-0296-4297-b14a-00bf66fba587",
   "metadata": {},
   "outputs": [
    {
     "name": "stdout",
     "output_type": "stream",
     "text": [
      "union: {3.5, 6, 8.7, 40, 11, 29}\n"
     ]
    }
   ],
   "source": [
    "set1 = {6 , 8.7 , 29 , 40}\n",
    "set2 = {3.5 , 11 , 40 , 6}\n",
    "\n",
    "union = set1 | set2\n",
    "\n",
    "print('union:' , union)"
   ]
  },
  {
   "cell_type": "code",
   "execution_count": 107,
   "id": "7d5f248f-0afa-4a42-b661-db794be2d492",
   "metadata": {},
   "outputs": [
    {
     "name": "stdout",
     "output_type": "stream",
     "text": [
      "inersection: {40, 6}\n"
     ]
    }
   ],
   "source": [
    "intersection = set1 & set2\n",
    "\n",
    "print ('inersection:' , intersection)"
   ]
  },
  {
   "cell_type": "code",
   "execution_count": 108,
   "id": "bb7604bf-b97f-4883-a22c-a2d9506437c6",
   "metadata": {},
   "outputs": [
    {
     "name": "stdout",
     "output_type": "stream",
     "text": [
      "difference: {8.7, 29}\n"
     ]
    }
   ],
   "source": [
    "difference = set1 - set2\n",
    "\n",
    "print('difference:' , difference)"
   ]
  },
  {
   "cell_type": "code",
   "execution_count": 13,
   "id": "e672dab4-0dcd-4fac-8cc3-e3d43b0e8510",
   "metadata": {},
   "outputs": [
    {
     "name": "stdout",
     "output_type": "stream",
     "text": [
      "symmetric_difference: {3.5, 8.7, 11, 29}\n"
     ]
    }
   ],
   "source": [
    "set1 = {6 , 8.7 , 29 , 40}\n",
    "set2 = {3.5 , 11 , 40 , 6}\n",
    "\n",
    "symmetric_difference = set1 ^ set2\n",
    "\n",
    "print('symmetric_difference:', symmetric_difference)"
   ]
  },
  {
   "cell_type": "markdown",
   "id": "634101d6-d0ce-4e35-8bbd-c46747008a3b",
   "metadata": {},
   "source": [
    "Q6. Discuss the use cases of tuples and sets in python programming."
   ]
  },
  {
   "cell_type": "markdown",
   "id": "2ccdfbb9-ce40-4b61-8c3c-2855ef2ada50",
   "metadata": {},
   "source": [
    "Tuples and sets are two distinct data structures in Python, each with unique properties and use cases. "
   ]
  },
  {
   "cell_type": "markdown",
   "id": "fad0d962-7c77-4d88-a770-05c7c06ce521",
   "metadata": {},
   "source": [
    "## Use cases of tuples"
   ]
  },
  {
   "cell_type": "markdown",
   "id": "1f811e08-70af-422f-88ff-f547e042f993",
   "metadata": {},
   "source": [
    "1. Immutable Collections - Tuples are immutable sequences, meaning once they are created, their content cannot be changed. This immutability makes them useful when you need a fixed collection of items.\n",
    "\n",
    "2. Dictionary Keys - Because tuples are immutable, they can be used as keys in dictionaries, while lists cannot.\n",
    "\n",
    "3. Fixed-Size Collections -  When you need a collection of items that has a fixed size and should not change, tuples are ideal. This can include things like storing a pair of items or a fixed-size group of elements.\n",
    "\n",
    "4. Performance -  Tuples can be more performant than lists for certain operations. They are generally faster and use less memory because they are immutable.\n",
    "\n",
    "5. Data - When you need to ensure that the data remains unchanged, such as for constants or configurations, tuples are a good choice."
   ]
  },
  {
   "cell_type": "code",
   "execution_count": 11,
   "id": "6a7ffdcd-a330-4c04-b987-d1d162bbce85",
   "metadata": {},
   "outputs": [
    {
     "data": {
      "text/plain": [
       "3"
      ]
     },
     "execution_count": 11,
     "metadata": {},
     "output_type": "execute_result"
    }
   ],
   "source": [
    "#'count' - shows how mamy times an element occured in tuple.\n",
    "tuple = (12, 12 , 6.7 ,'king kong' , 6.7 , 12 , 8+4j)\n",
    "tuple.count(12)"
   ]
  },
  {
   "cell_type": "code",
   "execution_count": 12,
   "id": "04c49b20-86fe-498b-8dc6-e3b09cb66444",
   "metadata": {},
   "outputs": [
    {
     "data": {
      "text/plain": [
       "3"
      ]
     },
     "execution_count": 12,
     "metadata": {},
     "output_type": "execute_result"
    }
   ],
   "source": [
    "#'index' - show the index of elements in tuple.\n",
    "tuple.index('king kong')"
   ]
  },
  {
   "cell_type": "code",
   "execution_count": 14,
   "id": "00018bc8-b548-4f24-a3be-c4911559576c",
   "metadata": {},
   "outputs": [
    {
     "name": "stdout",
     "output_type": "stream",
     "text": [
      "(12, 12, 6.7, 'king kong', 6.7, 12, (8+4j), 12, 12, 6.7, 'king kong', 6.7, 12, (8+4j), 12, 12, 6.7, 'king kong', 6.7, 12, (8+4j))\n"
     ]
    }
   ],
   "source": [
    "# multiple times repetition of element.\n",
    "tuple = (12, 12 , 6.7 ,'king kong' , 6.7 , 12 , 8+4j)\n",
    "print( tuple * 3)"
   ]
  },
  {
   "cell_type": "code",
   "execution_count": 20,
   "id": "8bf74178-824b-4034-b3e3-fe0348a34f6c",
   "metadata": {},
   "outputs": [
    {
     "data": {
      "text/plain": [
       "((8+4j), 6.7, 6.7, 12)"
      ]
     },
     "execution_count": 20,
     "metadata": {},
     "output_type": "execute_result"
    }
   ],
   "source": [
    "# slicing in tuple (reversed)\n",
    "tuple = (12, 12 , 6.7 ,'king kong' , 6.7 , 12 , 8+4j)\n",
    "tuple[  : :-2]"
   ]
  },
  {
   "cell_type": "code",
   "execution_count": 25,
   "id": "47310d5e-b6cc-4527-be14-79a83e5edbaa",
   "metadata": {},
   "outputs": [
    {
     "name": "stdout",
     "output_type": "stream",
     "text": [
      "(3, 12, 66)\n",
      "(3, 12, 66)\n",
      "(3, 12, 66)\n"
     ]
    }
   ],
   "source": [
    "#iteration in tuple\n",
    "i = (3 , 12 , 66)\n",
    "for item in i:\n",
    "    print(i)"
   ]
  },
  {
   "cell_type": "code",
   "execution_count": 26,
   "id": "3575ad3f-6651-425d-977c-cd779ef6caa7",
   "metadata": {},
   "outputs": [],
   "source": [
    "#nested tuple\n",
    "t1 = (20 , 44 , 19 , 100)\n",
    "t2 = (34 , 65 , 11 , 90)"
   ]
  },
  {
   "cell_type": "code",
   "execution_count": 27,
   "id": "c4c21898-8ddf-456b-bf90-924b38ed88d8",
   "metadata": {},
   "outputs": [],
   "source": [
    "t3 = (t1 , t2)"
   ]
  },
  {
   "cell_type": "code",
   "execution_count": 28,
   "id": "5b317fa7-81ff-4c65-8493-0466544895d0",
   "metadata": {},
   "outputs": [
    {
     "data": {
      "text/plain": [
       "((20, 44, 19, 100), (34, 65, 11, 90))"
      ]
     },
     "execution_count": 28,
     "metadata": {},
     "output_type": "execute_result"
    }
   ],
   "source": [
    "t3"
   ]
  },
  {
   "cell_type": "code",
   "execution_count": 29,
   "id": "9a81f94f-4a1a-4aa6-97c3-8ae3be62b0a3",
   "metadata": {},
   "outputs": [
    {
     "data": {
      "text/plain": [
       "tuple"
      ]
     },
     "execution_count": 29,
     "metadata": {},
     "output_type": "execute_result"
    }
   ],
   "source": [
    "type(t3)"
   ]
  },
  {
   "cell_type": "code",
   "execution_count": 30,
   "id": "c5908433-0222-48bc-bd17-4d0c1ab7696a",
   "metadata": {},
   "outputs": [],
   "source": [
    "del t3 #all elements are deleted"
   ]
  },
  {
   "cell_type": "code",
   "execution_count": null,
   "id": "711e47ff-61e6-49fe-805a-ce121fcb98f4",
   "metadata": {},
   "outputs": [],
   "source": [
    "t3 #error"
   ]
  },
  {
   "cell_type": "code",
   "execution_count": 32,
   "id": "867006e9-c848-4b4c-9d0f-ef725f0ba686",
   "metadata": {},
   "outputs": [
    {
     "data": {
      "text/plain": [
       "4"
      ]
     },
     "execution_count": 32,
     "metadata": {},
     "output_type": "execute_result"
    }
   ],
   "source": [
    "len(t2)"
   ]
  },
  {
   "cell_type": "code",
   "execution_count": 33,
   "id": "974d7068-b1ab-43ed-8535-1fe023dbbfcd",
   "metadata": {},
   "outputs": [
    {
     "data": {
      "text/plain": [
       "False"
      ]
     },
     "execution_count": 33,
     "metadata": {},
     "output_type": "execute_result"
    }
   ],
   "source": [
    "#membership operator\n",
    "1 in t1 "
   ]
  },
  {
   "cell_type": "code",
   "execution_count": 35,
   "id": "6a572259-0c40-43ec-be6f-e61d9f31d7af",
   "metadata": {},
   "outputs": [
    {
     "data": {
      "text/plain": [
       "True"
      ]
     },
     "execution_count": 35,
     "metadata": {},
     "output_type": "execute_result"
    }
   ],
   "source": [
    "11 not in t1"
   ]
  },
  {
   "cell_type": "code",
   "execution_count": 36,
   "id": "de313f79-f218-4a8a-9560-4bd90ee73453",
   "metadata": {},
   "outputs": [
    {
     "data": {
      "text/plain": [
       "(20, 44, 19, 100, 34, 65, 11, 90)"
      ]
     },
     "execution_count": 36,
     "metadata": {},
     "output_type": "execute_result"
    }
   ],
   "source": [
    "#combine tuples\n",
    "t1 + t2"
   ]
  },
  {
   "cell_type": "markdown",
   "id": "d3459d93-12d8-4fc4-aa4e-5d61c8ad460c",
   "metadata": {},
   "source": [
    "## Use cases of sets"
   ]
  },
  {
   "cell_type": "markdown",
   "id": "56819c12-ebcc-4332-9c31-74b86939b7b5",
   "metadata": {},
   "source": [
    "1. Unique Collections -\n",
    "\n",
    "Sets are useful when you need to maintain a collection of unique items. They automatically handle duplicates and can be used to check for membership efficiently.\n",
    "\n",
    "2. Membership Testing -\n",
    "   \n",
    "Sets provide very fast membership testing due to their underlying hash table implementation. This is useful when you need to check if an item is in a collection and efficiency is important.\n",
    "\n",
    "3. Set Operations -\n",
    "\n",
    "Sets support mathematical operations such as union, intersection, and difference, which are useful for analyzing relationships between collections of items.\n",
    "\n",
    "4.  Finding Common Elements in Multiple Collections -\n",
    "   \n",
    "If you have multiple sets and you want to find elements that are common to all of them, you can use set intersection.\n",
    "\n",
    "5. Set Difference for Data Cleaning -\n",
    "\n",
    "Sets can be useful for data cleaning tasks, such as finding which items are missing or extra in a dataset by comparing with a reference set."
   ]
  },
  {
   "cell_type": "code",
   "execution_count": 37,
   "id": "3e5dfee5-56da-43f2-9aeb-cc9fd6029354",
   "metadata": {},
   "outputs": [
    {
     "data": {
      "text/plain": [
       "{1, 2, 12, 26, 90}"
      ]
     },
     "execution_count": 37,
     "metadata": {},
     "output_type": "execute_result"
    }
   ],
   "source": [
    "# automatically handles the duplicates\n",
    "set = {12 , 1 ,26 , 90 , 2, 1 , 12, 26 , 26}\n",
    "set"
   ]
  },
  {
   "cell_type": "code",
   "execution_count": 50,
   "id": "26c892cc-3112-479d-ab01-1de80aee2611",
   "metadata": {},
   "outputs": [
    {
     "name": "stdout",
     "output_type": "stream",
     "text": [
      "{4}\n"
     ]
    }
   ],
   "source": [
    "#commom elements\n",
    "set1 = {1, 2, 3, 4}\n",
    "set2 = {3, 4, 5, 6}\n",
    "set3 = {4, 5, 6, 7}\n",
    "\n",
    "common_elements = set1 & set2 & set3\n",
    "print(common_elements) "
   ]
  },
  {
   "cell_type": "code",
   "execution_count": 51,
   "id": "3a1f6fb2-66d0-4cd5-a10a-f4433ba82853",
   "metadata": {},
   "outputs": [
    {
     "name": "stdout",
     "output_type": "stream",
     "text": [
      "{50.9, 22, 79}\n"
     ]
    }
   ],
   "source": [
    "#mathematical operator\n",
    "set_a = { 3 , 22, 50.9 , 79}\n",
    "set_b = {21 , 56 , 6.7 , 3 }\n",
    "\n",
    "difference_set = set_a - set_b\n",
    "print(difference_set) "
   ]
  },
  {
   "cell_type": "code",
   "execution_count": 52,
   "id": "308cfd79-fd0f-4769-b34e-2f39d7e0c31a",
   "metadata": {},
   "outputs": [
    {
     "name": "stdout",
     "output_type": "stream",
     "text": [
      "{'apple', 'cherry'}\n"
     ]
    }
   ],
   "source": [
    "original_set = {'apple' , 'cherry' , 'watermelon' , 'mango'}\n",
    "new_set = {'mango' , 'watermelon'}\n",
    "\n",
    "missing_items = original_set - new_set\n",
    "print(missing_items)"
   ]
  },
  {
   "cell_type": "markdown",
   "id": "6a7265a0-b769-4a0c-962c-f92a9b74f71c",
   "metadata": {},
   "source": [
    "Q7. Describe how to add , modify and delete items in a dictionary with examples."
   ]
  },
  {
   "cell_type": "markdown",
   "id": "7666457d-2c96-4f65-b690-a5e9a26516a1",
   "metadata": {},
   "source": [
    "In Python, a dictionary is a built-in data structure that allows you to store and manage data in a key-value pair format."
   ]
  },
  {
   "cell_type": "code",
   "execution_count": 53,
   "id": "4b304a97-f434-4322-bad0-d5dbd47b0d3a",
   "metadata": {},
   "outputs": [
    {
     "data": {
      "text/plain": [
       "{'name': 'Pratibha', 'age': 21, 'contact': 134857}"
      ]
     },
     "execution_count": 53,
     "metadata": {},
     "output_type": "execute_result"
    }
   ],
   "source": [
    "dic_ = {'name': 'Pratibha' , 'age' : 21 , 'contact' : 134857}\n",
    "dic_"
   ]
  },
  {
   "cell_type": "code",
   "execution_count": 55,
   "id": "9ddc37fc-3a76-4fdf-b67b-169492c34325",
   "metadata": {},
   "outputs": [
    {
     "data": {
      "text/plain": [
       "dict"
      ]
     },
     "execution_count": 55,
     "metadata": {},
     "output_type": "execute_result"
    }
   ],
   "source": [
    "type(dic_)"
   ]
  },
  {
   "cell_type": "markdown",
   "id": "d5681f16-0cb1-46e3-acb2-2771910134b7",
   "metadata": {},
   "source": [
    "1.Modifying Items\n",
    "\n",
    "To modify an existing item in a dictionary, you simply assign a new value to an existing key. This operation updates the value associated with that key.\n",
    "\n",
    "Example:"
   ]
  },
  {
   "cell_type": "code",
   "execution_count": null,
   "id": "5adbdc5f-69e8-4f28-bf00-0d71b0137391",
   "metadata": {},
   "outputs": [],
   "source": [
    "dic_ = {'name': 'Pratibha' , 'age' : 21 , 'contact' : 134857}\n",
    "dic_['name']= 'Emma'"
   ]
  },
  {
   "cell_type": "code",
   "execution_count": 62,
   "id": "2c9ffb19-5c11-4852-8995-da54406e7c2b",
   "metadata": {},
   "outputs": [
    {
     "data": {
      "text/plain": [
       "{'name': 'Emma', 'age': 21, 'contact': 134857}"
      ]
     },
     "execution_count": 62,
     "metadata": {},
     "output_type": "execute_result"
    }
   ],
   "source": [
    "dic_"
   ]
  },
  {
   "cell_type": "code",
   "execution_count": 63,
   "id": "722b4328-93a3-48f4-93ff-675bf1360aa5",
   "metadata": {},
   "outputs": [
    {
     "data": {
      "text/plain": [
       "'hyderabad'"
      ]
     },
     "execution_count": 63,
     "metadata": {},
     "output_type": "execute_result"
    }
   ],
   "source": [
    "dic1 = {'account no.' : 7463724 , 'state': 'hyderabad'}\n",
    "dic1['state']"
   ]
  },
  {
   "cell_type": "code",
   "execution_count": null,
   "id": "e333f6c9-0e4c-4535-b605-aeda0dabd4f4",
   "metadata": {},
   "outputs": [],
   "source": [
    "dic1 = {{'area': 'chandni chauk'} : 'branch'} # dictionary can't be key .therefore it will show an error."
   ]
  },
  {
   "cell_type": "code",
   "execution_count": null,
   "id": "dd84b95a-4184-432b-ad62-cf4c5b055105",
   "metadata": {},
   "outputs": [],
   "source": [
    "#what if same keys are used twice???\n",
    "dic_ = {'name': 'Pratibha' , 'age' : 21 , 'contact' : 134857 , 'age' : 43}\n",
    "dic_     #so the last key whill be used."
   ]
  },
  {
   "cell_type": "markdown",
   "id": "70b7573d-9046-4b6d-a427-82baf00072a8",
   "metadata": {},
   "source": [
    "2. Deleting Items\n",
    "   \n",
    "You can delete items from a dictionary using either the del statement or the pop() method."
   ]
  },
  {
   "cell_type": "code",
   "execution_count": null,
   "id": "ddfbc715-9e52-4109-9638-0b0dae54ea9e",
   "metadata": {},
   "outputs": [],
   "source": [
    "# to delete any element from dictionary\n",
    "dic_ = {'name': 'Pratibha' , 'age' : 21 , 'contact' : 134857 }\n",
    "del dic_['age']"
   ]
  },
  {
   "cell_type": "code",
   "execution_count": 69,
   "id": "7005329b-1d5f-4287-938c-5ebcb96d8275",
   "metadata": {},
   "outputs": [
    {
     "data": {
      "text/plain": [
       "{'name': 'Pratibha', 'contact': 134857}"
      ]
     },
     "execution_count": 69,
     "metadata": {},
     "output_type": "execute_result"
    }
   ],
   "source": [
    "dic_"
   ]
  },
  {
   "cell_type": "code",
   "execution_count": 70,
   "id": "9d4a1559-5eea-4b71-ba27-181685c0ec25",
   "metadata": {},
   "outputs": [],
   "source": [
    "dic_.clear() #the dictonary will become empty."
   ]
  },
  {
   "cell_type": "code",
   "execution_count": 71,
   "id": "5a2892bd-431f-46b7-8ad0-9c8ff9283963",
   "metadata": {},
   "outputs": [
    {
     "data": {
      "text/plain": [
       "{}"
      ]
     },
     "execution_count": 71,
     "metadata": {},
     "output_type": "execute_result"
    }
   ],
   "source": [
    "dic_"
   ]
  },
  {
   "cell_type": "code",
   "execution_count": 73,
   "id": "1661ef40-57f9-4980-8c85-957f6ca7c20f",
   "metadata": {},
   "outputs": [],
   "source": [
    "person = { 'name': 'Alice', 'age': 31, 'city': 'New York'}\n",
    "del person['city']"
   ]
  },
  {
   "cell_type": "code",
   "execution_count": 74,
   "id": "730f87e4-6096-45cb-b111-da130ec2d763",
   "metadata": {},
   "outputs": [
    {
     "data": {
      "text/plain": [
       "{'name': 'Alice', 'age': 31}"
      ]
     },
     "execution_count": 74,
     "metadata": {},
     "output_type": "execute_result"
    }
   ],
   "source": [
    "person"
   ]
  },
  {
   "cell_type": "code",
   "execution_count": 75,
   "id": "552b43b9-6e40-4b10-a8cf-6bb9545076ed",
   "metadata": {},
   "outputs": [],
   "source": [
    "edited = {'ticket': 7000 , 'area' : 'old delhi' , 'transport' : 'airplane'}\n",
    "remove = edited.pop('area')"
   ]
  },
  {
   "cell_type": "code",
   "execution_count": 76,
   "id": "18271c34-155a-4c93-98c2-01842adbe498",
   "metadata": {},
   "outputs": [
    {
     "data": {
      "text/plain": [
       "{'ticket': 7000, 'transport': 'airplane'}"
      ]
     },
     "execution_count": 76,
     "metadata": {},
     "output_type": "execute_result"
    }
   ],
   "source": [
    "edited"
   ]
  },
  {
   "cell_type": "markdown",
   "id": "62bff4cc-3a42-4052-9025-85c549bff99a",
   "metadata": {},
   "source": [
    "3. Adding Items\n",
    "\n",
    "To add items to a dictionary, you assign a value to a new key. If the key does not already exist in the dictionary, this operation adds the key-value pair to the dictionary."
   ]
  },
  {
   "cell_type": "code",
   "execution_count": 79,
   "id": "de59fafa-dc0d-45d4-aa88-befeccb746cf",
   "metadata": {},
   "outputs": [
    {
     "name": "stdout",
     "output_type": "stream",
     "text": [
      "{'ticket': 7000, 'area': 'old delhi', 'transport': 'airplane', 'members': 28}\n"
     ]
    }
   ],
   "source": [
    "edited = {'ticket': 7000 , 'area' : 'old delhi' , 'transport' : 'airplane'}\n",
    "edited ['members'] = 28\n",
    "print(edited)"
   ]
  },
  {
   "cell_type": "code",
   "execution_count": 81,
   "id": "c9814b52-437a-4146-9539-5345c57175ba",
   "metadata": {},
   "outputs": [
    {
     "name": "stdout",
     "output_type": "stream",
     "text": [
      "{'shopping': 'one piece dress', 'foot wear': 'shoes', 'movie': 'insidious'}\n"
     ]
    }
   ],
   "source": [
    "to_do = {'shopping' : 'one piece dress' , 'foot wear': \"shoes\" } \n",
    "to_do ['movie'] = 'insidious'\n",
    "print(to_do)"
   ]
  },
  {
   "cell_type": "markdown",
   "id": "4248c4e3-d13e-4ff3-8cc6-6c22277468bc",
   "metadata": {},
   "source": [
    "Q8. Discuss the importance of dictionary keys being immutable and provide example."
   ]
  },
  {
   "cell_type": "markdown",
   "id": "b6021b6e-6552-4537-9efb-c6d1132f9081",
   "metadata": {},
   "source": [
    "In Python, a dictionary is a built-in data structure that allows you to store and manage data in a key-value pair format. Dictionary keys must be immutable, which means they cannot be changed after they are created. This requirement is crucial for several reasons related to the internal workings of dictionaries and the integrity of data management. \n",
    "\n",
    "Importance of Immutable Dictionary Keys\n",
    "\n",
    "1. Hashing and Consistency:\n",
    "\n",
    "Hashing: Python dictionaries use a hash table to manage key-value pairs. For this mechanism to work correctly, each key must be hashable. Hashable objects have a fixed hash value for their lifetime. This hash value is used to quickly locate the key in the dictionary.\n",
    "\n",
    "Consistency: If a key's value were mutable and could change, its hash value could change, leading to inconsistencies in the dictionary. This would make it impossible to reliably locate the key and its associated value.\n",
    "\n",
    "2. Unordered collections  -  Elements are not stored in a specific order.\n",
    "\n",
    "3. Reliability  -  Immutable keys ensure that once a key is added to the dictionary, it remains constant.\n",
    "\n",
    "4. Performance -  Immutable keys contribute to the performance of these operations by ensuring that the hash values remain constant."
   ]
  },
  {
   "cell_type": "code",
   "execution_count": 84,
   "id": "9b215730-aee0-4780-bfa2-7801a019b247",
   "metadata": {},
   "outputs": [
    {
     "name": "stdout",
     "output_type": "stream",
     "text": [
      "Alia\n",
      "30\n",
      "jaipur\n"
     ]
    }
   ],
   "source": [
    "person = { 'name': 'Alia', 'age': 30, 'city': 'jaipur'}\n",
    "\n",
    "print(person['name']) \n",
    "print(person['age'])   \n",
    "print(person['city'])"
   ]
  },
  {
   "cell_type": "code",
   "execution_count": 88,
   "id": "47e3396e-c036-4cb8-bd55-90b79578fc33",
   "metadata": {},
   "outputs": [
    {
     "name": "stdout",
     "output_type": "stream",
     "text": [
      "{1: 'soda', 2: 'pizza', 3: 'namkeen'}\n"
     ]
    }
   ],
   "source": [
    "num_dict = { 1 : 'soda' , 2 : 'pizza' , 3 : 'namkeen'} \n",
    "\n",
    "print(num_dict)"
   ]
  }
 ],
 "metadata": {
  "kernelspec": {
   "display_name": "Python 3 (ipykernel)",
   "language": "python",
   "name": "python3"
  },
  "language_info": {
   "codemirror_mode": {
    "name": "ipython",
    "version": 3
   },
   "file_extension": ".py",
   "mimetype": "text/x-python",
   "name": "python",
   "nbconvert_exporter": "python",
   "pygments_lexer": "ipython3",
   "version": "3.12.4"
  }
 },
 "nbformat": 4,
 "nbformat_minor": 5
}
